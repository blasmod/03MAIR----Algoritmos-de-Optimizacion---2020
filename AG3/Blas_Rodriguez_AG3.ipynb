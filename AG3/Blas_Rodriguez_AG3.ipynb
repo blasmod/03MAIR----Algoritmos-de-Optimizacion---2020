{
  "nbformat": 4,
  "nbformat_minor": 0,
  "metadata": {
    "colab": {
      "name": "Blas Rodriguez-AG3.ipynb",
      "provenance": [],
      "collapsed_sections": [],
      "authorship_tag": "ABX9TyMIqjayss8n+sLOGQR4Zu3O",
      "include_colab_link": true
    },
    "kernelspec": {
      "name": "python3",
      "display_name": "Python 3"
    }
  },
  "cells": [
    {
      "cell_type": "markdown",
      "metadata": {
        "id": "view-in-github",
        "colab_type": "text"
      },
      "source": [
        "<a href=\"https://colab.research.google.com/github/blasmod/03MAIR----Algoritmos-de-Optimizacion---2020/blob/master/AG3/Blas_Rodriguez_AG3.ipynb\" target=\"_parent\"><img src=\"https://colab.research.google.com/assets/colab-badge.svg\" alt=\"Open In Colab\"/></a>"
      ]
    },
    {
      "cell_type": "markdown",
      "metadata": {
        "id": "ZwjX1tlWRr7X",
        "colab_type": "text"
      },
      "source": [
        "Actividad Guiada AG3 Algoritmos de Optimización\n",
        "\n",
        "Blas Rodriguez Lerena\n",
        "\n",
        "https://colab.research.google.com/drive/1MGkboPu7bvsXbNsZj0NPHpFG-EiqW4W4?usp=sharing"
      ]
    },
    {
      "cell_type": "code",
      "metadata": {
        "id": "GOOpNI-7RkOk",
        "colab_type": "code",
        "colab": {
          "base_uri": "https://localhost:8080/",
          "height": 204
        },
        "outputId": "a9d4ac4a-e634-4e89-bda2-76c4ca8d9051"
      },
      "source": [
        "!pip install request\n",
        "!pip install tsplib95"
      ],
      "execution_count": 11,
      "outputs": [
        {
          "output_type": "stream",
          "text": [
            "Requirement already satisfied: request in /usr/local/lib/python3.6/dist-packages (0.0.0)\n",
            "Requirement already satisfied: post in /usr/local/lib/python3.6/dist-packages (from request) (0.0.0)\n",
            "Requirement already satisfied: get in /usr/local/lib/python3.6/dist-packages (from request) (0.0.0)\n",
            "Requirement already satisfied: query-string in /usr/local/lib/python3.6/dist-packages (from get->request) (0.0.0)\n",
            "Requirement already satisfied: tsplib95 in /usr/local/lib/python3.6/dist-packages (0.7.1)\n",
            "Requirement already satisfied: networkx~=2.1 in /usr/local/lib/python3.6/dist-packages (from tsplib95) (2.4)\n",
            "Requirement already satisfied: Deprecated~=1.2.9 in /usr/local/lib/python3.6/dist-packages (from tsplib95) (1.2.10)\n",
            "Requirement already satisfied: Click>=6.0 in /usr/local/lib/python3.6/dist-packages (from tsplib95) (7.1.2)\n",
            "Requirement already satisfied: tabulate~=0.8.7 in /usr/local/lib/python3.6/dist-packages (from tsplib95) (0.8.7)\n",
            "Requirement already satisfied: decorator>=4.3.0 in /usr/local/lib/python3.6/dist-packages (from networkx~=2.1->tsplib95) (4.4.2)\n",
            "Requirement already satisfied: wrapt<2,>=1.10 in /usr/local/lib/python3.6/dist-packages (from Deprecated~=1.2.9->tsplib95) (1.12.1)\n"
          ],
          "name": "stdout"
        }
      ]
    },
    {
      "cell_type": "code",
      "metadata": {
        "id": "8A3uTkwjVlX4",
        "colab_type": "code",
        "colab": {
          "base_uri": "https://localhost:8080/",
          "height": 34
        },
        "outputId": "c5d30d85-15c0-4e15-ef83-9a36fb5da782"
      },
      "source": [
        "import urllib. request\n",
        "\n",
        "file = \"swiss42.tsp\"\n",
        "\n",
        "urllib.request.urlretrieve('http://elib.zib.de/pub/mp-testdata/tsp/tsplib/tsp/swiss42.tsp',file)"
      ],
      "execution_count": 12,
      "outputs": [
        {
          "output_type": "execute_result",
          "data": {
            "text/plain": [
              "('swiss42.tsp', <http.client.HTTPMessage at 0x7f92fa905b70>)"
            ]
          },
          "metadata": {
            "tags": []
          },
          "execution_count": 12
        }
      ]
    },
    {
      "cell_type": "code",
      "metadata": {
        "id": "IUHF2eQdWvJi",
        "colab_type": "code",
        "colab": {}
      },
      "source": [
        "import tsplib95\n",
        "import random\n",
        "import math\n",
        "from math import e,inf\n",
        "import copy"
      ],
      "execution_count": 13,
      "outputs": []
    },
    {
      "cell_type": "code",
      "metadata": {
        "id": "v4OIVZPfXoGH",
        "colab_type": "code",
        "colab": {}
      },
      "source": [
        "problem = tsplib95.load(file)   #problem contiene clases como funciones\n",
        "\n",
        "Nodos = list(problem.get_nodes())\n",
        "\n",
        "Aristas = list(problem.get_edges())"
      ],
      "execution_count": 40,
      "outputs": []
    },
    {
      "cell_type": "code",
      "metadata": {
        "id": "PhVMukH0Yl65",
        "colab_type": "code",
        "colab": {}
      },
      "source": [
        "#Genera solución aleatoria con comienzo en el nodo 0\n",
        "def crear_solucion(Nodos):\n",
        "  solucion = [Nodos[0]]\n",
        "  \n",
        "  for n in Nodos[1:]:\n",
        "    \n",
        "    #print (solucion)\n",
        "    solucion = solucion + [random.choice(list(set(Nodos) - set({Nodos[0]}) - set(solucion)))]\n",
        "  return solucion\n",
        "\n",
        "\n",
        " # crear_solucion(Nodos)\n",
        "\n",
        "#Devuelve distancia entre nodos\n",
        "def distancia(a,b,problem):\n",
        "  return problem.get_weight(a,b)\n",
        "\n",
        "#Devuelve distancia total de una trayectoria / solución\n",
        "def distancia_total(solucion,problem):\n",
        "  distancia_total = 0\n",
        "  for i in range(len(solucion)-1):\n",
        "    distancia_total += distancia(solucion[i] ,solucion[i+1] ,  problem)\n",
        "\n",
        "  return distancia_total + distancia(solucion[len(solucion)-1] ,solucion[0], problem)\n",
        "\n"
      ],
      "execution_count": 41,
      "outputs": []
    },
    {
      "cell_type": "code",
      "metadata": {
        "id": "ijSgCy43bzaS",
        "colab_type": "code",
        "colab": {
          "base_uri": "https://localhost:8080/",
          "height": 34
        },
        "outputId": "25124f76-1d42-4aa8-e5c4-81691cbeab23"
      },
      "source": [
        "#Realizamos el cálculo de la distancia en primer lugar con la búsqueda\n",
        "#aleatoria según lo visto en teoría\n",
        "def busqueda_aleatoria(problem,N):\n",
        "  mejor_solucion = []\n",
        "  mejor_distancia = inf #infinito\n",
        "\n",
        "  for i in range (N):\n",
        "    solucion = crear_solucion(Nodos)\n",
        "    distancia = distancia_total(solucion,problem) \n",
        "\n",
        "    if distancia < mejor_distancia:\n",
        "      mejor_solucion = solucion\n",
        "      mejor_distancia = distancia\n",
        "\n",
        "  return mejor_solucion\n",
        "  \n",
        "s=busqueda_aleatoria(problem,100)     \n",
        "print(distancia_total(s,problem),s)   \n",
        "            "
      ],
      "execution_count": 42,
      "outputs": [
        {
          "output_type": "stream",
          "text": [
            "4262 [0, 32, 26, 28, 25, 11, 36, 6, 9, 10, 5, 4, 16, 18, 24, 22, 17, 15, 14, 37, 38, 27, 19, 1, 3, 12, 31, 21, 39, 7, 35, 33, 2, 20, 29, 13, 40, 41, 23, 34, 8, 30]\n"
          ],
          "name": "stdout"
        }
      ]
    },
    {
      "cell_type": "code",
      "metadata": {
        "id": "nhnoyM_vfcYB",
        "colab_type": "code",
        "colab": {
          "base_uri": "https://localhost:8080/",
          "height": 51
        },
        "outputId": "57b102f8-f1b6-4971-b811-681e0f20a5d8"
      },
      "source": [
        "#Búsqueda Local. Generador de vecindad\n",
        "#Generador de soluciones vecinas: 2 - opt \n",
        "#(intercambiar nodos) Si hay N nodos se generan (N-1)x(N-2)/2 soluciones \n",
        "def genera_vecina(solucion,problem):\n",
        "  mejor_solucion = []\n",
        "  mejor_distancia = inf #infinito\n",
        "  for i in range (1,len(solucion)-1):\n",
        "    for j in range(i+1,len(solucion)):\n",
        "      vecina = solucion[:i] + [solucion[j]] + solucion[i+1:j] + [solucion[i]] + solucion[j+1:] \n",
        "      #Divido solución de referencia en tres partes\n",
        "      distancia_vecina = distancia_total(vecina,problem) \n",
        "      if distancia_vecina < mejor_distancia:\n",
        "        mejor_solucion = vecina\n",
        "        mejor_distancia = distancia_vecina\n",
        "  return mejor_solucion\n",
        "\n",
        "s1 = crear_solucion(Nodos)\n",
        "s2 = genera_vecina(s1,problem)\n",
        "#print(s1)\n",
        "print(distancia_total(s1,problem),s1)\n",
        "print(distancia_total(s2,problem),s2)"
      ],
      "execution_count": 26,
      "outputs": [
        {
          "output_type": "stream",
          "text": [
            "4789 [0, 40, 32, 21, 22, 9, 8, 14, 27, 17, 7, 18, 23, 2, 13, 4, 16, 30, 35, 6, 3, 29, 33, 20, 12, 10, 34, 19, 41, 39, 31, 28, 1, 25, 11, 38, 37, 26, 24, 36, 5, 15]\n",
            "4255 [0, 40, 24, 21, 22, 9, 8, 14, 27, 17, 7, 18, 23, 2, 13, 4, 16, 30, 35, 6, 3, 29, 33, 20, 12, 10, 34, 19, 41, 39, 31, 28, 1, 25, 11, 38, 37, 26, 32, 36, 5, 15]\n"
          ],
          "name": "stdout"
        }
      ]
    },
    {
      "cell_type": "code",
      "metadata": {
        "id": "yee7YhBdihsw",
        "colab_type": "code",
        "colab": {
          "base_uri": "https://localhost:8080/",
          "height": 68
        },
        "outputId": "c0d89a0f-a8bd-45dc-cc50-3d3bc06c57d6"
      },
      "source": [
        "#Función para obtener la distancia según el algoritmo de búsqueda local visto\n",
        "def busqueda_local(problem):\n",
        "  solucion_referencia = crear_solucion(Nodos)\n",
        "  mejor_distancia = 10e100\n",
        "\n",
        "  iteracion = 0\n",
        "  while(1):\n",
        "    iteracion+=1\n",
        "    vecina = genera_vecina(solucion_referencia,problem)\n",
        "    distancia_vecina = distancia_total(vecina,problem) \n",
        "    if distancia_vecina < mejor_distancia:\n",
        "      mejor_solucion = vecina\n",
        "      mejor_distancia = distancia_vecina\n",
        "    else:\n",
        "      print('En la iteracion ' + str(iteracion)+\n",
        "            ' encontramos la solucion:'+str(mejor_distancia))\n",
        "      print(\"Distancia :\",mejor_distancia)\n",
        "      print(mejor_solucion)\n",
        "      return mejor_solucion\n",
        "    solucion_referencia = vecina\n",
        "sol = busqueda_local(problem)\n"
      ],
      "execution_count": 27,
      "outputs": [
        {
          "output_type": "stream",
          "text": [
            "En la iteracion 32 encontramos la solucion:1615\n",
            "Distancia : 1615\n",
            "[0, 3, 6, 1, 17, 31, 36, 35, 20, 33, 34, 32, 14, 16, 15, 37, 7, 18, 12, 11, 25, 41, 23, 40, 24, 21, 39, 22, 38, 9, 8, 10, 13, 19, 5, 26, 4, 29, 30, 28, 2, 27]\n"
          ],
          "name": "stdout"
        }
      ]
    },
    {
      "cell_type": "code",
      "metadata": {
        "id": "_whBMid5ndRr",
        "colab_type": "code",
        "colab": {}
      },
      "source": [
        "def genera_vecina_aleatorio(solucion):\n",
        "#Generador de una solución vecina 2-opt aleatoria (intercambiar 2 nodos)\n",
        "\n",
        "#Se eligen dos nodos aleatoriamente y se intercambian\n",
        "  i,j = sorted(random.sample( range(1,len(solucion)) , 2))\n",
        "\n",
        "  return solucion[:i] + [solucion[j]] + solucion[i+1:j] + [solucion[i]] + solucion[j+1:]\n",
        "\n",
        "def bajar_temperatura(T):\n",
        "  return T*.999 #Descenso exponencial\n",
        "\n",
        "def probabilidad(T,d):\n",
        "  if random.random() <= math.exp( -1*d / T)  :\n",
        "    return True\n",
        "  else:\n",
        "    return False\n"
      ],
      "execution_count": 43,
      "outputs": []
    },
    {
      "cell_type": "code",
      "metadata": {
        "id": "daxf3-vdJh00",
        "colab_type": "code",
        "colab": {}
      },
      "source": [
        "def recocido_simulado(problem, TEMPERATURA=1000):\n",
        "  #problem = datos del problema\n",
        "\n",
        "  solucion_referencia = crear_solucion(Nodos)\n",
        "  distancia_referencia = distancia_total(solucion_referencia, problem)\n",
        "\n",
        "  mejor_solucion = []\n",
        "  mejor_distancia = 10e100\n",
        "  N = 0\n",
        "  while TEMPERATURA > .0001:\n",
        "    N+=1\n",
        "    #Genera una solución vecina\n",
        "    vecina = genera_vecina_aleatorio(solucion_referencia)\n",
        "\n",
        "    #Calcula su valor(distancia)\n",
        "    distancia_vecina = distancia_total(vecina, problem)\n",
        "\n",
        "    #Si es la mejor solución de todas se guarda\n",
        "    if distancia_vecina < mejor_distancia:\n",
        "      mejor_solucion = vecina\n",
        "      mejor_distancia = distancia_vecina\n",
        "  \n",
        "    #Si la nueva vecina es mejor se cambia\n",
        "    # Si es peor se cambia según una probabilidad \n",
        "    #que depende de T y delta(distancia_referencia - distancia_vecina)\n",
        "    if distancia_vecina < distancia_referencia or probabilidad(TEMPERATURA, abs(distancia_referencia - distancia_vecina) ):\n",
        "      solucion_referencia = copy.deepcopy(vecina)\n",
        "      distancia_referencia = distancia_vecina\n",
        "\n",
        "    #Bajamos la temperatura\n",
        "    TEMPERATURA = bajar_temperatura(TEMPERATURA)\n",
        "\n",
        "  print(\"La mejor solución encontrada es \", end=\"\")\n",
        "  print(mejor_solucion)\n",
        "  print(\"con una distancia total de \", end=\"\")\n",
        "  print(mejor_distancia)\n",
        "  return mejor_solucion\n",
        "\n"
      ],
      "execution_count": 38,
      "outputs": []
    },
    {
      "cell_type": "code",
      "metadata": {
        "id": "iHzWzuiCM499",
        "colab_type": "code",
        "colab": {
          "base_uri": "https://localhost:8080/",
          "height": 102
        },
        "outputId": "a52df66a-8255-41b6-ae69-87c289669a8f"
      },
      "source": [
        "sol = busqueda_local(problem)  \n",
        "sol = recocido_simulado(problem, 1000000)"
      ],
      "execution_count": 44,
      "outputs": [
        {
          "output_type": "stream",
          "text": [
            "En la iteracion 36 encontramos la solucion:1802\n",
            "Distancia : 1802\n",
            "[0, 27, 29, 39, 22, 30, 28, 2, 4, 18, 12, 11, 25, 41, 23, 9, 38, 34, 33, 20, 32, 6, 1, 31, 35, 36, 17, 37, 15, 16, 14, 7, 19, 13, 5, 26, 10, 40, 24, 21, 8, 3]\n",
            "La mejor solución encontrada es [0, 37, 15, 16, 14, 4, 3, 2, 27, 32, 20, 33, 34, 9, 8, 10, 18, 6, 1, 7, 17, 31, 35, 36, 19, 13, 5, 26, 12, 11, 25, 41, 23, 40, 24, 21, 39, 22, 38, 30, 29, 28]\n",
            "con una distancia total de 1653\n"
          ],
          "name": "stdout"
        }
      ]
    },
    {
      "cell_type": "markdown",
      "metadata": {
        "id": "mS1dm_V4Ryde",
        "colab_type": "text"
      },
      "source": [
        "##Algoritmo de colonia de hormigas\n",
        "\n",
        "La función Add_Nodo selecciona al azar un nodo con probabilidad uniforme.\n",
        "Para ser mas eficiente debería seleccionar el próximo nodo siguiendo la probabilidad correspondiente a la ecuación:\n",
        "\n",
        "$p^k_{ij}(t) = \\frac{[\\tau_{ij}(t)]^\\alpha[\\nu_{ij}]^\\beta}{\\sum_{l\\in J^k_i} [\\tau_{il}(t)]^\\alpha[\\nu_{il}]^\\beta}$, si $j \\in J^k_i$\n",
        "\n",
        "$p^k_{ij}(t) = 0$, si $j \\notin J^k_i$"
      ]
    },
    {
      "cell_type": "code",
      "metadata": {
        "id": "CaFOaRaARApG",
        "colab_type": "code",
        "colab": {}
      },
      "source": [
        "#Funciones Auxiliares\n",
        "def Add_Nodo(problem, H ,T ) :\n",
        "  #Mejora:Establecer una funcion de probabilidad para \n",
        "  # añadir un nuevo nodo dependiendo de los nodos mas cercanos y \n",
        "  #de las feromonas depositadas\n",
        "  Nodos = list(problem.get_nodes())\n",
        "  return random.choice(   list(set(range(1,len(Nodos))) - set(H) )  )\n",
        "\n",
        "\n",
        "def Incrementa_Feromona(problem, T, H ) :\n",
        "  #Incrementa segun la calidad de la solución. \n",
        "  #Añadir una cantidad inversamente proporcional a la distancia total \n",
        "  for i in range(len(H)-1):\n",
        "    T[H[i]][H[i+1]] += 1000/distancia_total(H, problem)\n",
        "  return T\n",
        "\n",
        "def Evaporar_Feromonas(T ):\n",
        "  #Evapora 0.3 el valor de la feromona, sin que baje de 1\n",
        "  #Mejora:Podemos elegir diferentes funciones de evaporación \n",
        "  #dependiendo de la cantidad actual y de la suma total de feromonas depositadas,...\n",
        "  T = [[ max(T[i][j] - 0.3 , 1) for i in range(len(Nodos)) ]\n",
        "       for j in range(len(Nodos))]\n",
        "  return T"
      ],
      "execution_count": 45,
      "outputs": []
    },
    {
      "cell_type": "code",
      "metadata": {
        "id": "umOJvKzMPufh",
        "colab_type": "code",
        "colab": {
          "base_uri": "https://localhost:8080/",
          "height": 51
        },
        "outputId": "fdb7d9a5-ca10-4e26-d852-100eed76be39"
      },
      "source": [
        "#Método Constructivo. Colonia de Hormigas\n",
        "def hormigas(problem, N) :\n",
        "  #problem = datos del problema\n",
        "  #N = Número de agentes(hormigas)\n",
        "    \n",
        "  #Nodos\n",
        "  Nodos = list(problem.get_nodes())\n",
        "  #Aristas\n",
        "  Aristas = list(problem.get_edges()) \n",
        "  \n",
        "  #Inicializa las aristas con una cantidad inicial de feromonas:1\n",
        "  #Mejora: inicializar con valores diferentes dependiendo diferentes criterios\n",
        "  T = [[ 1 for _ in range(len(Nodos)) ] for _ in range(len(Nodos))]\n",
        "  \n",
        "  #Se generan los agentes(hormigas) que serán estructuras de caminos desde 0\n",
        "  Hormiga = [[0] for _ in range(N)]\n",
        "  \n",
        "  #Recorre cada agente construyendo la solución\n",
        "  for h in range(N) :\n",
        "    #Para cada agente se construye un camino\n",
        "    for i in range(len(Nodos)-1) :\n",
        "      \n",
        "      #Elige el siguiente nodo\n",
        "      Nuevo_Nodo = Add_Nodo(problem, Hormiga[h] ,T )\n",
        "      Hormiga[h].append(Nuevo_Nodo)     \n",
        "    \n",
        "    #Incrementa feromonas en esa arista \n",
        "    T = Incrementa_Feromona(problem, T, Hormiga[h] )\n",
        "    #print(\"Feromonas(1)\", T)\n",
        "      \n",
        "    #Evapora Feromonas  \n",
        "    T = Evaporar_Feromonas(T)\n",
        "    #print(\"Feromonas(2)\", T)\n",
        "\n",
        "    #Seleccionamos el mejor agente\n",
        "  mejor_solucion = []\n",
        "  mejor_distancia = 10e100\n",
        "  for h in range(N) :\n",
        "    distancia_actual = distancia_total(Hormiga[h], problem)\n",
        "    if distancia_actual < mejor_distancia:\n",
        "      mejor_solucion = Hormiga[h]\n",
        "      mejor_distancia =distancia_actual\n",
        "  \n",
        "  \n",
        "  print(mejor_solucion)\n",
        "  print(mejor_distancia)\n",
        "  \n",
        "  \n",
        "hormigas(problem, 1000)"
      ],
      "execution_count": 46,
      "outputs": [
        {
          "output_type": "stream",
          "text": [
            "[0, 4, 2, 6, 35, 20, 39, 11, 41, 28, 38, 13, 12, 16, 23, 18, 1, 7, 17, 32, 26, 29, 25, 21, 22, 30, 15, 19, 14, 33, 31, 3, 37, 36, 34, 27, 5, 24, 40, 9, 10, 8]\n",
            "3782\n"
          ],
          "name": "stdout"
        }
      ]
    },
    {
      "cell_type": "markdown",
      "metadata": {
        "id": "Z30RGvsdRqle",
        "colab_type": "text"
      },
      "source": [
        ""
      ]
    }
  ]
}