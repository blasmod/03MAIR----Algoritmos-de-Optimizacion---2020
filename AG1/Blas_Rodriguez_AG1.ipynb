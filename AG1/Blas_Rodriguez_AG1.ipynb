{
  "nbformat": 4,
  "nbformat_minor": 0,
  "metadata": {
    "colab": {
      "name": "Blas Rodriguez-AG1.ipynb",
      "provenance": [],
      "collapsed_sections": [],
      "authorship_tag": "ABX9TyOzdIBNCbsVhpY+E51HFx0T",
      "include_colab_link": true
    },
    "kernelspec": {
      "name": "python3",
      "display_name": "Python 3"
    }
  },
  "cells": [
    {
      "cell_type": "markdown",
      "metadata": {
        "id": "view-in-github",
        "colab_type": "text"
      },
      "source": [
        "<a href=\"https://colab.research.google.com/github/blasmod/03MAIR----Algoritmos-de-Optimizacion---2020/blob/master/AG1/Blas_Rodriguez_AG1.ipynb\" target=\"_parent\"><img src=\"https://colab.research.google.com/assets/colab-badge.svg\" alt=\"Open In Colab\"/></a>"
      ]
    },
    {
      "cell_type": "markdown",
      "metadata": {
        "id": "lONgyktx1MpH",
        "colab_type": "text"
      },
      "source": [
        "#Actividad Guiada 1 de Algoritmos de Optimización\n",
        "Blas Rodríguez Lerena\n",
        "\n",
        "https://colab.research.google.com/drive/1fuVrobB5WpiWS3AfoOvUrxdp82CSnYaN?usp=sharing\n",
        "\n",
        "https://github.com/blasmod/03MAIR----Algoritmos-de-Optimizacion---2020"
      ]
    },
    {
      "cell_type": "code",
      "metadata": {
        "id": "FgY_4hfyqzdE",
        "colab_type": "code",
        "colab": {
          "base_uri": "https://localhost:8080/",
          "height": 272
        },
        "outputId": "81ce7fef-d43c-4ce1-9e20-c3a735e05edf"
      },
      "source": [
        "#Resolución Problema de las Torres de Hanoi con la técnica de divide y vencerás\n",
        "\n",
        "def Torres_Hanoi(N,desde,hasta):\n",
        "  if(N==1):\n",
        "    print(\"Mueve desde la \" + str(desde) + \" hasta \" + str(hasta) )\n",
        "  else:\n",
        "    Torres_Hanoi(N-1,desde,6-hasta-desde)\n",
        "    print(\"Mueve desde la \" + str(desde) + \" hasta \" + str(hasta) )\n",
        "    Torres_Hanoi(N-1,6-hasta-desde,hasta)\n",
        "\n",
        "Torres_Hanoi(4,1,3)"
      ],
      "execution_count": 349,
      "outputs": [
        {
          "output_type": "stream",
          "text": [
            "Mueve desde la 1 hasta 2\n",
            "Mueve desde la 1 hasta 3\n",
            "Mueve desde la 2 hasta 3\n",
            "Mueve desde la 1 hasta 2\n",
            "Mueve desde la 3 hasta 1\n",
            "Mueve desde la 3 hasta 2\n",
            "Mueve desde la 1 hasta 2\n",
            "Mueve desde la 1 hasta 3\n",
            "Mueve desde la 2 hasta 3\n",
            "Mueve desde la 2 hasta 1\n",
            "Mueve desde la 3 hasta 1\n",
            "Mueve desde la 2 hasta 3\n",
            "Mueve desde la 1 hasta 2\n",
            "Mueve desde la 1 hasta 3\n",
            "Mueve desde la 2 hasta 3\n"
          ],
          "name": "stdout"
        }
      ]
    },
    {
      "cell_type": "code",
      "metadata": {
        "id": "YdXP6fkNnsNf",
        "colab_type": "code",
        "colab": {
          "base_uri": "https://localhost:8080/",
          "height": 34
        },
        "outputId": "02c303cf-3b7f-49d2-db12-91852bb4e693"
      },
      "source": [
        "#Algoritmo voraz para obtener el menor número de monedas en un sistema monetario\n",
        "\n",
        "#Sistema_Monetario = [25, 10, 5, 1]\n",
        "Sistema_Monetario = [11, 5, 1]\n",
        "\n",
        "def cambio_monedas(N,Sistema_Monetario):\n",
        "\n",
        "  ValorAcumulado = 0\n",
        "\n",
        "  SOL = [0]*len(Sistema_Monetario)\n",
        "  for i,m in enumerate(Sistema_Monetario):\n",
        "    # print(i,m)\n",
        "    monedas = (N-ValorAcumulado)//m\n",
        "    ValorAcumulado = ValorAcumulado + monedas*m\n",
        "    SOL[i] = monedas\n",
        "  \n",
        "    if ValorAcumulado == N:\n",
        "      return SOL\n",
        "  return SOL\n",
        "\n",
        "print(cambio_monedas(15,Sistema_Monetario))\n"
      ],
      "execution_count": 350,
      "outputs": [
        {
          "output_type": "stream",
          "text": [
            "[1, 0, 4]\n"
          ],
          "name": "stdout"
        }
      ]
    },
    {
      "cell_type": "markdown",
      "metadata": {
        "id": "jUbURoBYMWcZ",
        "colab_type": "text"
      },
      "source": [
        "Podemos comprobar que no con todos los sistemas monetarios el algoritmo voraz presenta la solución más óptima (menor número de monedas posibles)."
      ]
    },
    {
      "cell_type": "code",
      "metadata": {
        "id": "xPWOemmazZvu",
        "colab_type": "code",
        "colab": {
          "base_uri": "https://localhost:8080/",
          "height": 153
        },
        "outputId": "01f4a04f-e581-4085-c709-56666587a95d"
      },
      "source": [
        "#Técnica de vuelta atras para problema de las cuatro reinas (Backtracing)\n",
        "\n",
        "import numpy as np\n",
        "\n",
        "\n",
        "def reinas (N,solucion,etapa): #Tamaño del tablero\n",
        "  \n",
        "  tablero = np.full((N,N),'')  #Definimos tablero\n",
        "  \n",
        "  for i in range(1,N+1):    #Recorremos tablero\n",
        "    \n",
        "    solucion[etapa] = i\n",
        "    \n",
        "    #print (solucion)\n",
        "    if es_prometedora(solucion,etapa):\n",
        "      #Comprueba que no hay reinas en la misma fila \n",
        "      if (etapa == N-1):\n",
        "        print(\"La solucion es:\")\n",
        "        print(solucion)\n",
        "#Imprimimos por pantalla tablero y solucion donde nos indica la posicion \n",
        "        for j in range (N):\n",
        "        #Rellenamos tablero para observar posiciones solución  \n",
        "          tablero[j][solucion[j]-1] ='R'  \n",
        "        print('\\nEl tablero con las Reinas: \\n' +str(tablero))\n",
        "        return tablero\n",
        "        \n",
        "       \n",
        "      else:\n",
        "        #print(\"Es prometedora\\n\")\n",
        "        reinas(N,solucion,etapa+1)\n",
        "\n",
        "    else:\n",
        "      #print(\"No prometedora\\n\")\n",
        "      None\n",
        "    solucion[etapa] = 0\n",
        "   \n",
        " \n",
        "def es_prometedora(SOLUCION,etapa):\n",
        "  \n",
        "  #print (SOLUCION)\n",
        "  for i in range (etapa+1):\n",
        "    if SOLUCION.count(SOLUCION[i])>1: return False\n",
        "\n",
        "    #verifica las diagonales\n",
        "    for j in range (i+1,etapa +1):\n",
        "      if abs(i-j) == abs(SOLUCION[i] - SOLUCION[j]): return False\n",
        "  return True\n",
        "\n",
        "solucion = [0,0,0,0]\n",
        "etapa = 0\n",
        "tab = reinas(4,solucion,etapa)\n",
        "    "
      ],
      "execution_count": 351,
      "outputs": [
        {
          "output_type": "stream",
          "text": [
            "La solucion es:\n",
            "[2, 4, 1, 3]\n",
            "\n",
            "El tablero con las Reinas: \n",
            "[['' 'R' '' '']\n",
            " ['' '' '' 'R']\n",
            " ['R' '' '' '']\n",
            " ['' '' 'R' '']]\n"
          ],
          "name": "stdout"
        }
      ]
    },
    {
      "cell_type": "markdown",
      "metadata": {
        "id": "GYvU5RSCFYBj",
        "colab_type": "text"
      },
      "source": [
        "Analizamos a continuación la diferencia entre los algoritmos de fuerza bruta y recursivo para el cálculo de la distancia mínima en diferentes dimensiones."
      ]
    },
    {
      "cell_type": "code",
      "metadata": {
        "id": "irJHtuiheeJv",
        "colab_type": "code",
        "colab": {
          "base_uri": "https://localhost:8080/",
          "height": 136
        },
        "outputId": "2b4101c5-cccb-4e1c-ad3a-096d29935f0d"
      },
      "source": [
        "#Problema punto más cercano 1D comparando el tiempo para fuerza bruta y DYV\n",
        "\n",
        "import random\n",
        "from timeit import default_timer as timer\n",
        "\n",
        "LISTA_1D = [random.randrange(1,10000000000) for x in range(10000)]\n",
        "\n",
        "#Algoritmo por fuerza bruta para obtener el punto más cercano\n",
        "\n",
        "def mas_cercano(LISTA_1D):\n",
        "  dmin = 9999\n",
        "  d = 9999\n",
        "  for i in range (len(LISTA_1D)-1):\n",
        "    for j in range (i+1,len(LISTA_1D)):\n",
        "      \n",
        "      d = abs(LISTA_1D[i] - LISTA_1D[j])\n",
        "     \n",
        "      if (d < dmin):\n",
        "        dmin = d\n",
        " \n",
        "  return dmin\n",
        "\n",
        "#Algoritmo recursivo para obtener la distancia mínima en 1D\n",
        "\n",
        "def mas_cercano_rec(lista):\n",
        "   \n",
        "  dmin = 9999\n",
        "  dlmin, drmin = 9999,9999\n",
        "  dlmed = 9999\n",
        "  drmed = 9999\n",
        "  dmed = 9999\n",
        "  tam = len(lista)\n",
        "  \n",
        "  \n",
        "  if (tam == 1):  #Caso base recursividad\n",
        "   \n",
        "    return dmin\n",
        "  \n",
        "  if (tam == 2):   #Caso base recursividad\n",
        "    \n",
        "    dmin = abs(lista[0] - lista[1])\n",
        "    return dmin\n",
        "    \n",
        "  else:\n",
        "  \n",
        "    if (tam>2):\n",
        " #Realizamos la división de la lista como indica el método DYV\n",
        "      lista_izda = lista[:(tam//2)]   \n",
        "      lista_dcha = lista[(tam//2):]     \n",
        "    #Valores devueltos en la recursividad\n",
        "      dlmin = mas_cercano_rec(lista_izda)\n",
        "      drmin = mas_cercano_rec(lista_dcha)\n",
        "            \n",
        "      ind = int(tam//2)\n",
        "      \n",
        "      dlmed = lista_izda[ind-1]\n",
        "      drmed = lista_dcha[0]\n",
        "      \n",
        "      dmed = abs(dlmed - drmed)\n",
        "      \n",
        "    if (drmin < dlmin):\n",
        "      dmin = drmin\n",
        "      \n",
        "    else:\n",
        "      dmin = dlmin\n",
        "      \n",
        "    if(dmed < dmin):\n",
        "        dmin = dmed\n",
        "        \n",
        "        \n",
        "    return dmin\n",
        "#Vemos la diferencia de tiempo entre los dos algoritmos al ser ejecutados\n",
        "LISTA_ord = sorted(LISTA_1D)\n",
        "#print(LISTA_ord)\n",
        "start = timer()\n",
        "print('La distancia mínima entre dos puntos para Fbruta es: ' + \n",
        "      str(mas_cercano(LISTA_ord)))\n",
        "end = timer()\n",
        "start2 = timer()\n",
        "print('\\nLa distancia mínima entre dos puntos para DYV es: ' + \n",
        "      str(mas_cercano_rec(LISTA_ord)))\n",
        "end2 = timer()\n",
        "time_fbruta = end - start \n",
        "time_frecur = end2 - start2\n",
        "\n",
        "print('\\nEl tiempo para Algoritmo de fuerza bruta ' + str(time_fbruta))\n",
        "print('\\nEl tiempo para Algoritmo Divide y vencerás ' + str(time_frecur))\n"
      ],
      "execution_count": 378,
      "outputs": [
        {
          "output_type": "stream",
          "text": [
            "La distancia mínima entre dos puntos para Fbruta es: 42\n",
            "\n",
            "La distancia mínima entre dos puntos para DYV es: 42\n",
            "\n",
            "El tiempo para Algoritmo de fuerza bruta 7.685192185999767\n",
            "\n",
            "El tiempo para Algoritmo Divide y vencerás 0.007197503997304011\n"
          ],
          "name": "stdout"
        }
      ]
    },
    {
      "cell_type": "markdown",
      "metadata": {
        "id": "6wXgkQajRmPN",
        "colab_type": "text"
      },
      "source": [
        "\n",
        "\n",
        "\n",
        "A medida que se aumenta el número de puntos, se incrementa la diferencia de tiempo entre los dos algoritmos. Cuando el número de puntos (10000) es muy elevado podemos observar la diferencia (aproximadamente 7 segundos).\n",
        "Vemos a continuación el caso de 2D."
      ]
    },
    {
      "cell_type": "code",
      "metadata": {
        "colab_type": "code",
        "id": "m4xOA9ueR3dp",
        "colab": {
          "base_uri": "https://localhost:8080/",
          "height": 136
        },
        "outputId": "95f86b3b-d324-4572-b1c0-5941739145be"
      },
      "source": [
        "import numpy as np\n",
        "import random\n",
        "import math \n",
        "from timeit import default_timer as timer\n",
        "\n",
        "#Algoritmo para encontrar distancia mínima entre dos puntos de 2D \n",
        "#aplicando Fuerza Bruta y Divide y Vencerás\n",
        "#Creamos matriz de puntos\n",
        "LISTA_2D = [[random.randrange(1,1000000) for i in range(2)] for x in range(10000)]   \n",
        "\n",
        "#Algoritmo por Fuerza Bruta en 2D\n",
        "def mas_cercano_2d(LISTA):\n",
        " \n",
        "  dmed = 99999999    #Inicializamos a valor infinito\n",
        "  tam = len(LISTA)\n",
        "  \n",
        "  for i in range (tam):\n",
        "    for j in range (tam):\n",
        "      if (j!=i):\n",
        "        d = np.sqrt(pow(abs(LISTA[i][0]-LISTA[j][0]),2) + \n",
        "                    (pow(abs(LISTA[i][1]-LISTA[j][1]),2)))  \n",
        "        #Calculamos distancia mínima\n",
        "        if (d < dmed):\n",
        "          dmed = d\n",
        "          \n",
        "  return dmed\n",
        "\n",
        "#Algoritmo recursivo para 2D\n",
        "def mas_cercano_rec (LISTA):\n",
        "  \n",
        "  dlmin = 99999999   #Inicializamos a valor infinito\n",
        "  drmin = 99999999\n",
        "  dmed = 99999999\n",
        "  dmin = 9999999\n",
        "  d = 99999999  \n",
        "  tam = len(LISTA)\n",
        "\n",
        " \n",
        "  if (tam == 1):    # caso base. Devolvemos infinito de dmin\n",
        "   \n",
        "    return dmin\n",
        "  \n",
        "  \n",
        "  if(tam == 2):   #Caso base para tamaño de lista 2\n",
        "             #Calculamos la distancia mínima para ese lado\n",
        "    \n",
        "    \n",
        "    dmin = np.sqrt(pow(abs(LISTA[0][0]-LISTA[1][0]),2) + \n",
        "                   (pow(abs(LISTA[0][1]-LISTA[1][1]),2)))   \n",
        "    #Calculamos distancia entre los dos puntos\n",
        "    \n",
        "    return dmin\n",
        "  \n",
        "  if (tam>2):\n",
        "      \n",
        "      lista_izda = LISTA[:(tam//2)]   #Realizamos división \n",
        "      \n",
        "      lista_dcha = LISTA[(tam//2):]\n",
        "      \n",
        "      dlmin = mas_cercano_rec(lista_izda)\n",
        "          \n",
        "      drmin = mas_cercano_rec(lista_dcha)\n",
        "      #Nos quedamos con la distancia mínima de las tres opciones\n",
        "      if (dlmin < drmin):    \n",
        "        dmin = dlmin\n",
        "      else:\n",
        "        dmin = drmin\n",
        "     \n",
        "      tam_izda = len(lista_izda)\n",
        "      tam_dcha = len(lista_dcha)\n",
        "    #Definimos punto medio virtual para obtener los puntos dentro de dmin\n",
        "      xm = (lista_izda[tam_izda-1][0]+lista_dcha[0][0])/2\n",
        "  \n",
        "  #Obtenemos los índices para los puntos que están dentro del punto medio   \n",
        "      i = tam_izda- 1  #Inicializamos para bucle while Lista Izquierda\n",
        "      imaxl = 0\n",
        "      while(i>=0 and abs(xm-lista_izda[i][0])<dmin):\n",
        "        \n",
        "        imaxl+=1\n",
        "        i-=1\n",
        "      \n",
        "      imaxr = 0 #Inicializamos para bucle while Lista Dcha\n",
        "      j = 0\n",
        "      while(j < tam_dcha and abs(lista_dcha[j][0]-xm)<dmin):\n",
        "        imaxr+=1\n",
        "        j+=1\n",
        "      \n",
        "#Para los índices obtenidos calculamos la dmin por fuerza bruta\n",
        "      for i in range(imaxl,0,-1):\n",
        "        \n",
        "        for j in range(imaxr):\n",
        "            #Calculamos distancia mínima dentro de intervalo\n",
        "            dmed = np.sqrt(pow(abs(lista_izda[tam_izda+-i][0]-lista_dcha[j][0]),2) \n",
        "            + (pow(abs(lista_izda[tam_izda+-i][1]-lista_dcha[j][1]),2)))            \n",
        "          \n",
        "            if (dmed < d):\n",
        "              d = dmed \n",
        "       \n",
        "      if(d < dmin):\n",
        "        dmin = d\n",
        " \n",
        "      return dmin\n",
        "\n",
        "\n",
        "#Ordenamos Lista\n",
        "LISTA = sorted(LISTA_2D)\n",
        "\n",
        "#Medimos tiempo de ejecución y llamamos a las funciones\n",
        "start = timer()\n",
        "print('La distancia mínima entre dos puntos para Fbruta es: ' + \n",
        "      str(mas_cercano_2d(LISTA)))\n",
        "end = timer()\n",
        "start2 = timer()\n",
        "print('\\nLa distancia mínima entre dos puntos para DYV es: ' + \n",
        "      str(mas_cercano_rec(LISTA)))\n",
        "end2 = timer()\n",
        "time_fbruta = end - start \n",
        "time_frecur = end2 - start2\n",
        "\n",
        "print('\\nEl tiempo para Algoritmo de fuerza bruta ' + str(time_fbruta))\n",
        "print('\\nEl tiempo para Algoritmo Divide y vencerás ' + str(time_frecur))\n"
      ],
      "execution_count": 353,
      "outputs": [
        {
          "output_type": "stream",
          "text": [
            "La distancia mínima entre dos puntos para Fbruta es: 53.25410782277739\n",
            "\n",
            "La distancia mínima entre dos puntos para DYV es: 53.25410782277739\n",
            "\n",
            "El tiempo para Algoritmo de fuerza bruta 248.74163841300106\n",
            "\n",
            "El tiempo para Algoritmo Divide y vencerás 0.4007972460021847\n"
          ],
          "name": "stdout"
        }
      ]
    },
    {
      "cell_type": "markdown",
      "metadata": {
        "colab_type": "text",
        "id": "_q3WFbkSTApw"
      },
      "source": [
        "Podemos observar como a medida que aumenta el tamaño de la matriz, la diferencia es cada vez mayor entre ambos algoritmos, siendo el tiempo de fuerza bruta muchisimo mayor para valores muy elevados. Si empezamos con una matriz de 10 términos, el tiempo es practicamente el mismo, pero a medida que subimos el número se incrementa para el algoritmo de fuerza bruta.\n",
        "El algoritmo DYV es mucho más complejo que el de fuerza bruta, pero a valores muy altos vemos como se compensa la complejidad con su tiempo de ejecución."
      ]
    }
  ]
}