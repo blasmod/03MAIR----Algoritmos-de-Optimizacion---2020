{
  "nbformat": 4,
  "nbformat_minor": 0,
  "metadata": {
    "colab": {
      "name": "Blas Rodriguez-AG2.ipynb",
      "provenance": [],
      "collapsed_sections": [],
      "authorship_tag": "ABX9TyPBa8GzTAABJ+dtq2sPm5+9",
      "include_colab_link": true
    },
    "kernelspec": {
      "name": "python3",
      "display_name": "Python 3"
    }
  },
  "cells": [
    {
      "cell_type": "markdown",
      "metadata": {
        "id": "view-in-github",
        "colab_type": "text"
      },
      "source": [
        "<a href=\"https://colab.research.google.com/github/blasmod/03MAIR----Algoritmos-de-Optimizacion---2020/blob/master/AG2/Blas_Rodriguez_AG2.ipynb\" target=\"_parent\"><img src=\"https://colab.research.google.com/assets/colab-badge.svg\" alt=\"Open In Colab\"/></a>"
      ]
    },
    {
      "cell_type": "markdown",
      "metadata": {
        "id": "6wl8Oqdn3e2a",
        "colab_type": "text"
      },
      "source": [
        "Actividad Guiada 2 de Algoritmos de Optimización\n",
        "\n",
        "Blas Rodríguez Lerena\n",
        "\n",
        "https://colab.research.google.com/drive/1_Qm0JCp8befgsF5wjbTN8ZiuekIV1b7D?usp=sharing\n",
        "\n",
        "https://github.com/blasmod/03MAIR----Algoritmos-de-Optimizacion---2020/blob/master/AG2/Blas_Rodriguez_AG2.ipynb\n",
        "\n",
        "\n"
      ]
    },
    {
      "cell_type": "code",
      "metadata": {
        "id": "_NzOH9szZVGm",
        "colab_type": "code",
        "colab": {
          "base_uri": "https://localhost:8080/",
          "height": 86
        },
        "outputId": "b43058df-da98-4c7a-c805-f73279930d34"
      },
      "source": [
        "#Viaje por el rio\n",
        "TARIFAS = [\n",
        "          [0,5,4,3,999,999,999],\n",
        "         [999,0,999,2,3,999,11],\n",
        "         [999,999,0,1,999,4,10],\n",
        "         [999,999,999,0,5,6,9],\n",
        "         [999,999,999,999,0,999,4],\n",
        "         [999,999,999,999,999,0,3],\n",
        "         [999,999,999,999,999,999,0]\n",
        "         ]\n",
        "RUTA = []\n",
        "PRECIOS = []\n",
        "\n",
        "def Precios (TARIFAS):\n",
        "\n",
        "  N = len(TARIFAS[0])\n",
        "\n",
        "  PRECIOS = [[9999]*N for i in [9999]*N]\n",
        "  RUTA = [[\"\"]*N for i in [\"\"]*N]\n",
        "  #print(RUTA)\n",
        "  \n",
        "  for i in range(N-1):\n",
        "    for j in range (i+1,N):\n",
        "      MIN = TARIFAS[i][j]\n",
        "      RUTA[i][j] = i\n",
        "      for k in range(i,j):\n",
        "        if PRECIOS[i][k] + TARIFAS[k][j] < MIN:\n",
        "          MIN = min(MIN, PRECIOS[i][k] + TARIFAS[k][j])\n",
        "          RUTA[i][j] = k\n",
        "          \n",
        "        PRECIOS[i][j] = MIN\n",
        "  #print(RUTA)\n",
        "  \n",
        "  return (PRECIOS,RUTA)\n",
        "  \n",
        "def calcular_ruta(RUTA,desde,hasta):\n",
        "  if desde == hasta:\n",
        "    return desde\n",
        "  else:\n",
        "    return str(calcular_ruta(RUTA,desde,RUTA[desde][hasta])) + ',' + str(RUTA[desde][hasta])\n",
        "PRECIOS,RUTA = Precios(TARIFAS)\n",
        "print (\"\\n\\n La ruta es:\")\n",
        "calcular_ruta(RUTA,0,6)\n",
        "\n"
      ],
      "execution_count": null,
      "outputs": [
        {
          "output_type": "stream",
          "text": [
            "\n",
            "\n",
            " La ruta es:\n"
          ],
          "name": "stdout"
        },
        {
          "output_type": "execute_result",
          "data": {
            "application/vnd.google.colaboratory.intrinsic": {
              "type": "string"
            },
            "text/plain": [
              "'0,0,2,5'"
            ]
          },
          "metadata": {
            "tags": []
          },
          "execution_count": 16
        }
      ]
    },
    {
      "cell_type": "code",
      "metadata": {
        "id": "t0P-A7WUnYqe",
        "colab_type": "code",
        "colab": {
          "base_uri": "https://localhost:8080/",
          "height": 35
        },
        "outputId": "ee39b3e7-1925-45c4-d78a-1f050711152f"
      },
      "source": [
        "\n",
        "#Asignar N tareas a N agentes\n",
        "import itertools\n",
        "COSTES = [[11,12,18,40],\n",
        "       [14,15,13,22],\n",
        "       [11,17,19,23],\n",
        "       [17,14,20,28]\n",
        "       ]\n",
        "\n",
        "\n",
        "def valor(S,COSTES):\n",
        "  VALOR = 0\n",
        "  for i in range(len(S)):\n",
        "    VALOR += COSTES[i][S[i]]\n",
        "  return VALOR\n",
        "\n",
        "\n",
        "\n",
        "def fuerza_bruta(COSTES):\n",
        "  mejor_valor = 10e10\n",
        "  mejor_solucion = ()\n",
        "  \n",
        "  for s in list(itertools.permutations(range(len(COSTES)))):\n",
        "    #print(s,valor(s,COSTES))\n",
        "    valor_tmp = valor(s,COSTES)\n",
        "    if valor_tmp < mejor_valor:\n",
        "      mejor_valor = valor_tmp\n",
        "      mejor_solucion = s\n",
        "  print(\"La mejor solucion es :\", mejor_solucion,\"con valor:\", mejor_valor)\n",
        "\n",
        "fuerza_bruta(COSTES)"
      ],
      "execution_count": 1,
      "outputs": [
        {
          "output_type": "stream",
          "text": [
            "La mejor solucion es : (0, 2, 3, 1) con valor: 61\n"
          ],
          "name": "stdout"
        }
      ]
    },
    {
      "cell_type": "code",
      "metadata": {
        "id": "lULOYMjf5YAH",
        "colab_type": "code",
        "colab": {
          "base_uri": "https://localhost:8080/",
          "height": 459
        },
        "outputId": "a119e9ad-4796-4377-93a0-16eaef37f18c"
      },
      "source": [
        "#Realizamos comparación de algoritmo de fuerza bruta con el algoritmo de ramificación y poda\n",
        "\n",
        "#Asignar N tareas a N agentes\n",
        "\n",
        "import itertools\n",
        "import numpy as np\n",
        "import random\n",
        "from timeit import default_timer as timer\n",
        "\n",
        "#COSTES = [[11,12,18,40],  #Matriz 4x4\n",
        "#         [14,15,13,22],\n",
        "#         [11,17,19,23],\n",
        "#         [17,14,20,28]]\n",
        "\n",
        "COSTES = np.random.randint(15, size=(9,9))   #Matriz Aleatoria para comprobar funcionamiento aumentando las dimensiones\n",
        "print (COSTES)\n",
        "\n",
        "#Algoritmo de Fuerza Bruta\n",
        "def valor(S,COSTES):\n",
        "  VALOR = 0\n",
        "  for i in range(len(S)):\n",
        "    VALOR += COSTES[i][S[i]]\n",
        "  return VALOR\n",
        "\n",
        "#valor((0,1,2,3),COSTES)\n",
        "\n",
        "def fuerza_bruta(COSTES):\n",
        "  mejor_valor = 10e10\n",
        "  mejor_solucion = ()\n",
        "  #print(list(itertools.permutations(range(len(COSTES)))))\n",
        "  for s in list(itertools.permutations(range(len(COSTES)))):\n",
        "    #print(s,valor(s,COSTES))\n",
        "    \n",
        "    valor_tmp = valor(s,COSTES)\n",
        "    if valor_tmp < mejor_valor:\n",
        "      mejor_valor = valor_tmp\n",
        "      mejor_solucion = s\n",
        "  print(\"La mejor solucion para fuerza bruta es: \", mejor_solucion,\"con valor:\", mejor_valor)\n",
        "  print(\"\\n\")\n",
        "\n",
        "\n",
        "#Algoritmo Ramificación y Poda\n",
        "\n",
        "def CI(S,COSTES):\n",
        "  VALOR = 0\n",
        "  #Valores establecidos\n",
        "  \n",
        "  for i in range (len(S)):\n",
        "    VALOR +=COSTES[i][S[i]]\n",
        "    \n",
        "  #Estimacion\n",
        "  for i in range(len(COSTES)):\n",
        "    if i not in S:\n",
        "      VALOR += min([COSTES[j][i] for j in range(len(S), len(COSTES))])\n",
        "  return VALOR\n",
        "\n",
        "#Función para ramificar\n",
        "#Genera tantos hijos como posibilidades haya para el siguiente elemento de la tupla \n",
        "# (0,) -> (0,1), (0,2), (0,3)\n",
        "def crear_hijos (NODO, N):\n",
        "  \n",
        "  HIJOS = []\n",
        "  for i in range(N):\n",
        "    if i not in NODO:\n",
        "      HIJOS.append({'s':NODO + (i,) })\n",
        "  return HIJOS\n",
        "\n",
        "\n",
        "\n",
        "def ramificacion_y_poda(COSTES):\n",
        "#Construccion iterativa de soluciones (arbol). En cada etapa asignamos un agente (ramas).\n",
        "#Nodos del grafo {s:(1,2), CI:3,CS:5}\n",
        "  \n",
        "  \n",
        "  print(COSTES)\n",
        "  DIMENSION = len(COSTES)\n",
        "  MEJOR_SOLUCION = tuple(i for i in range(len(COSTES)))\n",
        "  CotaSup = valor (MEJOR_SOLUCION, COSTES)\n",
        "\n",
        "  NODOS = []\n",
        "  NODOS.append({'s':(),'ci':CI((),COSTES)})\n",
        "  iteracion = 0\n",
        "\n",
        "  while(len(NODOS)>0):\n",
        "    iteracion+= 1\n",
        "    nodo_prometedor = [min (NODOS,key=lambda x:x['ci'])][0]['s']\n",
        "\n",
        "    #Ramificacion\n",
        "    #Se generan los hijos\n",
        "    HIJOS = [{'s':x['s'], 'ci':CI(x['s'],COSTES)} for x in crear_hijos(nodo_prometedor, DIMENSION)]\n",
        "\n",
        "    #Revisamos la cota superior y nos quedamos con la mejor solucion si llegamos a una solucion final\n",
        "    NODO_FINAL = [x for x in HIJOS if len(x['s']) == DIMENSION]\n",
        "    if len(NODO_FINAL)>0:\n",
        "      if NODO_FINAL[0]['ci']<CotaSup:\n",
        "        CotaSup = NODO_FINAL[0]['ci']\n",
        "        MEJOR_SOLUCION = NODO_FINAL\n",
        "\n",
        "    #Poda\n",
        "    HIJOS = [x for x in HIJOS if x['ci']< CotaSup]\n",
        "\n",
        "    #Añadimos los hijos\n",
        "    NODOS.extend(HIJOS)\n",
        "\n",
        "    #Eliminamos el nodo ramificado\n",
        "    NODOS = [x for x in NODOS if x['s']!= nodo_prometedor]\n",
        "  print (\"La solucion final es:\", MEJOR_SOLUCION, \" en \", iteracion, \" iteraciones \",\" para dimension: \", DIMENSION)\n",
        "\n",
        "\n",
        "start = timer()\n",
        "fuerza_bruta(COSTES)\n",
        "end = timer()\n",
        "\n",
        "start2 = timer()\n",
        "ramificacion_y_poda(COSTES)\n",
        "end2 = timer()\n",
        "\n",
        "time_fbruta = end - start \n",
        "time_framif = end2 - start2\n",
        "\n",
        "print('\\nEl tiempo para Algoritmo de fuerza bruta ' + str(time_fbruta))\n",
        "print('\\nEl tiempo para Algoritmo Ramificación y Poda ' + str(time_framif))"
      ],
      "execution_count": null,
      "outputs": [
        {
          "output_type": "stream",
          "text": [
            "[[ 0  0  9  8 11  9  8  6 12]\n",
            " [ 1  2  7  9 12  6  2 11  0]\n",
            " [ 5  8 13  6  2  1  4  7  5]\n",
            " [ 4  8 10  1  9 11 10 10  5]\n",
            " [ 6  1  1  2  1 14 14 11 12]\n",
            " [10 14  5  1  1  4  9 12 11]\n",
            " [14  8 10  2  9  5  5  6 14]\n",
            " [ 8 11  6 11  8 12 11  2  3]\n",
            " [14 11  4  4  6 13  5 10  4]]\n",
            "La mejor solucion para fuerza bruta es:  (0, 8, 5, 3, 1, 4, 6, 7, 2) con valor: 15\n",
            "\n",
            "\n",
            "[[ 0  0  9  8 11  9  8  6 12]\n",
            " [ 1  2  7  9 12  6  2 11  0]\n",
            " [ 5  8 13  6  2  1  4  7  5]\n",
            " [ 4  8 10  1  9 11 10 10  5]\n",
            " [ 6  1  1  2  1 14 14 11 12]\n",
            " [10 14  5  1  1  4  9 12 11]\n",
            " [14  8 10  2  9  5  5  6 14]\n",
            " [ 8 11  6 11  8 12 11  2  3]\n",
            " [14 11  4  4  6 13  5 10  4]]\n",
            "La solucion final es: [{'s': (0, 8, 5, 3, 1, 4, 6, 7, 2), 'ci': 15}]  en  171  iteraciones   para dimension:  9\n",
            "\n",
            "El tiempo para Algoritmo de fuerza bruta 1.7588829880000958\n",
            "\n",
            "El tiempo para Algoritmo Ramificación y Poda 0.01939057400022648\n"
          ],
          "name": "stdout"
        }
      ]
    },
    {
      "cell_type": "markdown",
      "metadata": {
        "id": "ejfLMtYA2JLD",
        "colab_type": "text"
      },
      "source": [
        "Hasta dimensión N = 9 el tiempo del algoritmo de fuerza bruta es muy parecido o incluso menor como se puede ver en el ejemplo. Pero cuando subimos a N = 11 el tiempo en el algoritmo de fuerza bruta se dispara de manera exponencial, llegando a los tres minutos en obtener la solución."
      ]
    },
    {
      "cell_type": "code",
      "metadata": {
        "id": "7oV_6-_btZKP",
        "colab_type": "code",
        "colab": {
          "base_uri": "https://localhost:8080/",
          "height": 283
        },
        "outputId": "68a13248-a8bb-4111-fa02-6a76be50d990"
      },
      "source": [
        "#Descenso del gradiente\n",
        "import math \n",
        "import matplotlib.pyplot as plt\n",
        "import numpy as np\n",
        "#import scipy as sc\n",
        "import random\n",
        "\n",
        "f = lambda X: X[0]**2+X[1]**2\n",
        "df = lambda X: [2*X[0], 2*X[1]]   #Funcion Gradiente\n",
        "\n",
        "#Preparamos los datos para dibujar mapa de niveles de Z\n",
        "\n",
        "resolucion = 100\n",
        "rango = 2.5\n",
        "X = np. linspace(-rango,rango,resolucion)\n",
        "Y = np.linspace(-rango,rango,resolucion)\n",
        "Z = np.zeros((resolucion, resolucion))\n",
        "for ix,x in enumerate(X):\n",
        "  for iy,y in enumerate(Y):\n",
        "    Z[iy,ix] = f([x,y])\n",
        "\n",
        "#Pinta el mapa de niveles de Z\n",
        "plt.contourf(X,Y,Z,resolucion)\n",
        "plt.colorbar()\n",
        "\n",
        "#Generamos un punto aleatorio\n",
        "P = [random.uniform(-2,2),random.uniform(-2,2)]\n",
        "plt.plot(P[0],P[1],\"o\",c=\"white\")\n",
        "\n",
        "#Tasa de aprendizaje\n",
        "TA =.1\n",
        "\n",
        "#Iteraciones\n",
        "for _ in range(500):\n",
        "  grad = df(P)\n",
        "  #print(P,grad)\n",
        "  P[0],P[1] = P[0] - TA*grad[0], P[1] - TA*grad[1]\n",
        "  plt.plot(P[0],P[1], \"o\",c=\"red\")\n",
        "plt.plot(P[0],P[1],\"o\",c=\"green\")\n",
        "plt.show()\n",
        "print(\"Solucion:\", P , f(P))\n",
        "\n",
        "  #Definimos la funcion\n",
        "  #sin(1/2 * x^2 - 1/4 * y^2 + 3) * cos(2*x + 1 - E^y)\n",
        "f = lambda X: np.sin(1/2 * X[0]**2 - 1/4 * X[1]**2 + 3) * np.cos(2* np.cos(2*X[0] + 1 - np.e**X[1]))\n",
        "\n",
        "  #Aproximamos el valor del gradiente en un punto por su definicion\n",
        "def df (PUNTO):\n",
        "  h = 0.01\n",
        "  T = np.copy(PUNTO)\n",
        "  grad = np.zeros(2)\n",
        "  for it, th in enumerate(PUNTO):\n",
        "    T[it] = T[it] + h\n",
        "    grad[it] = (f(T) - f(PUNTO)) / h\n",
        "  return grad\n",
        "\n"
      ],
      "execution_count": null,
      "outputs": [
        {
          "output_type": "display_data",
          "data": {
            "image/png": "[encoded data removed]",
            "text/plain": [
              "<Figure size 432x288 with 2 Axes>"
            ]
          },
          "metadata": {
            "tags": [],
            "needs_background": "light"
          }
        },
        {
          "output_type": "stream",
          "text": [
            "Solucion: [-5.747103296940829e-49, 8.911848731794394e-52] 3.3029275726755963e-97\n"
          ],
          "name": "stdout"
        }
      ]
    }
  ]
}