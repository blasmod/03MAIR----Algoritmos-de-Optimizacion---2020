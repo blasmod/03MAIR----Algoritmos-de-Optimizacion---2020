{
  "nbformat": 4,
  "nbformat_minor": 0,
  "metadata": {
    "colab": {
      "name": "Blas Rodriguez Seminario - Algoritmos.ipynb",
      "provenance": [],
      "collapsed_sections": [],
      "include_colab_link": true
    },
    "kernelspec": {
      "name": "python3",
      "display_name": "Python 3"
    }
  },
  "cells": [
    {
      "cell_type": "markdown",
      "metadata": {
        "id": "view-in-github",
        "colab_type": "text"
      },
      "source": [
        "<a href=\"https://colab.research.google.com/github/blasmod/03MAIR----Algoritmos-de-Optimizacion---2020/blob/master/SEMINARIO/Blas_Rodriguez_Seminario_Algoritmos.ipynb\" target=\"_parent\"><img src=\"https://colab.research.google.com/assets/colab-badge.svg\" alt=\"Open In Colab\"/></a>"
      ]
    },
    {
      "cell_type": "markdown",
      "metadata": {
        "id": "hVbXYX-RfPWh",
        "colab_type": "text"
      },
      "source": [
        "# Algoritmos de optimización - Seminario<br>\n",
        "Nombre y Apellidos:   Blas Rodríguez Lerena\n",
        "\n",
        "Url: https://github.com/.../03MAIR---Algoritmos-de-Optimizacion---2019/tree/master/SEMINARIO<br>\n",
        "Problema:\n",
        "> 1. Sesiones de doblaje <br>\n",
        ">2. Organizar los horarios de partidos de La Liga<br>\n",
        ">3. Combinar cifras y operaciones\n",
        "\n",
        "Descripción del problema:(copiar enunciado)\n",
        "\n",
        "El problema consiste en analizar el siguiente problema y diseñar un algoritmo que lo resuelva.\n",
        "\n",
        "• Disponemos de las 9 cifras del 1 al 9 (excluimos el cero) y de los 4 signos básicos de las\n",
        "operaciones fundamentales: suma(+), resta(-), multiplicación(*) y división(/)\n",
        "\n",
        "• Debemos combinarlos alternativamente sin repetir ninguno de ellos para obtener una\n",
        "cantidad dada. Un ejemplo sería para obtener el 4:\n",
        "4+2-6/3*1 = 4\n",
        "\n",
        "\n",
        "(*) La respuesta es obligatoria\n",
        "\n",
        "\n",
        "\n",
        "\n",
        "\n",
        "                                        "
      ]
    },
    {
      "cell_type": "markdown",
      "metadata": {
        "id": "3_-exlrTgLd-",
        "colab_type": "text"
      },
      "source": [
        "(*)¿Cuantas posibilidades hay sin tener en cuenta las restricciones?<br>\n",
        "\n",
        "\n",
        "\n",
        "¿Cuantas posibilidades hay teniendo en cuenta todas las restricciones.\n",
        "\n",
        "\n"
      ]
    },
    {
      "cell_type": "markdown",
      "metadata": {
        "id": "WfCUqJyKhPcw",
        "colab_type": "text"
      },
      "source": [
        "Respuesta\n",
        "\n",
        "Sin tener en cuenta las restricciones de no repetir ningún número, estaremos hablando de combinaciones con repetición de 5 elementos de un grupo de 9:\n",
        "$CR_{m},_{n} = \\frac{(n + m -1)!}{n!(m-1)!} = \\frac{13!}{5!8!} = 1287 $\n",
        "\n",
        "En el caso de las permutaciones de los operadores, serán permutaciones de 4 elementos en grupos de 2 o permutaciones en grupos de 3 y 1 elementos:\n",
        "\n",
        "$PR_{m},_{m},_{m-1} = \\frac{(m)!}{m!(m-1)!} = \\frac{4!}{2!2!} = 6 = PR_{4}^{2,2}$\n",
        "\n",
        "$PR_{4}^{3,1} = \\frac{4!}{3!1!} = 4 $\n",
        "\n",
        "Son las posibles ordenaciones de los operadores sin restricciones.\n",
        "\n",
        "Con las restricciones del problema se pueden obtener todos los valores enteros del 1 al 9.\n",
        " El número de combinaciones posibles de los 9 enteros, agrupados de 5 en 5 será: \n",
        "$C_{n},_{r} = \\frac{n!}{r!(n-r)!} = \\frac{9!}{5!4!} = 126  $\n",
        "\n",
        "Para el caso de los operadores, serán todas las permutaciones sin repetición de 4 elementos. Esto es:\n",
        "$V_{n},_{n} = {n!} = {4!} = 24 $\n",
        "\n",
        " Ejecutando el código, las soluciones obtenidas para cada valor son:\n",
        "\n",
        " (1-16 posibilidades)  (2-10) (3-12) (4-12) (5-12) (6-7) (7-6) (8-4) (9-4)"
      ]
    },
    {
      "cell_type": "code",
      "metadata": {
        "id": "iq6Fe32MgpDX",
        "colab_type": "code",
        "colab": {}
      },
      "source": [
        ""
      ],
      "execution_count": null,
      "outputs": []
    },
    {
      "cell_type": "markdown",
      "metadata": {
        "id": "dzynfVJahHoY",
        "colab_type": "text"
      },
      "source": [
        "Modelo para el espacio de soluciones<br>\n",
        "(*) ¿Cual es la estructura de datos que mejor se adapta al problema? Argumentalo.(Es posible que hayas elegido una al principio y veas la necesidad de cambiar, arguentalo)\n"
      ]
    },
    {
      "cell_type": "markdown",
      "metadata": {
        "id": "xFIJrOwKi2Ti",
        "colab_type": "text"
      },
      "source": [
        "Respuesta\n",
        "Para el algoritmo de fuerza bruta almacenaremos las combinaciones posibles (numero) y las permutaciones (operador) en dos listas que incluirá todas las posibilidades. Para almacenar el resultado (result) tendremos una cadena de caracteres en la que iremos almacenando alternativamente el número y el operador. Con la función **eval** obtendremos el valor buscado.\n",
        "\n",
        "Como se puede observar para el algoritmo de ramificación y poda, tendremos dos listas, una que incluirá todos los enteros positivos y otra lista que incluirá todos los operadores elementales.\n",
        "\n"
      ]
    },
    {
      "cell_type": "code",
      "metadata": {
        "id": "38c-7-ejhJmA",
        "colab_type": "code",
        "colab": {}
      },
      "source": [
        "#Algoritmo Fuerza Bruta\n",
        "numero = list(itertools.combinations('123456789',n))\n",
        "operador = list(itertools.permutations('+-/*'))\n",
        "result \n",
        "\n",
        "#Ramificación y poda\n",
        "numero = ['1','2','3','4','5','6','7','8','9']\n",
        "\n",
        "operador = ['+','-','*','/']\n",
        "\n"
      ],
      "execution_count": null,
      "outputs": []
    },
    {
      "cell_type": "markdown",
      "metadata": {
        "id": "7Z9U2W7bi-XS",
        "colab_type": "text"
      },
      "source": [
        "Según el modelo para el espacio de soluciones<br>\n",
        "(*)¿Cual es la función objetivo?\n",
        "\n",
        "(*)¿Es un problema de maximización o minimización?"
      ]
    },
    {
      "cell_type": "markdown",
      "metadata": {
        "id": "hBalWLM7j1_d",
        "colab_type": "text"
      },
      "source": [
        "Respuesta\n",
        "\n",
        "No es un problema de maximización, es un problema de búsqueda. No existe por tanto una función objetivo a maximizar. Utilizaremos para ello un algoritmo de búsqueda por fuerza bruta y por ramificación y poda."
      ]
    },
    {
      "cell_type": "code",
      "metadata": {
        "id": "pDA-rg3Gj5Lz",
        "colab_type": "code",
        "colab": {}
      },
      "source": [
        ""
      ],
      "execution_count": null,
      "outputs": []
    },
    {
      "cell_type": "markdown",
      "metadata": {
        "id": "rlnTYgY1j6I2",
        "colab_type": "text"
      },
      "source": [
        "Diseña un algoritmo para resolver el problema por fuerza bruta"
      ]
    },
    {
      "cell_type": "markdown",
      "metadata": {
        "id": "70rDgxYXkC8r",
        "colab_type": "text"
      },
      "source": [
        "Respuesta\n",
        "Para resolver el algoritmo de fuerza bruta hemos utilizado la función itertools.combinations , para poder obtener todas las combinaciones posibles de 5 números para el caso de los enteros del 1 al 9 (se puede observar en el código), y al función itertools.permutations para obtener todas las posibles permutaciones de los operadores elementales. \n",
        "Por medio de dos bucles for podemos obtener todas las posibilidades para obtener a combinación para el valor pasado.\n",
        "Al desarrollar el algoritmo de fuerza bruta, hicimos una primera versión que se puede observar en la siguiente celda, en la que recorremos las dos listas creadas pero sin utilizar la enumerate. En la segunda versión hacemos uso de esta para obtener la misma solución con un código más depurado y elegante."
      ]
    },
    {
      "cell_type": "code",
      "metadata": {
        "id": "CJb5sQ0qkENy",
        "colab_type": "code",
        "colab": {
          "base_uri": "https://localhost:8080/",
          "height": 295
        },
        "outputId": "96df4b9e-97f7-4037-b358-43018e62701c"
      },
      "source": [
        "import itertools\n",
        "import random\n",
        "\n",
        "n = random.randint(1, 9)  #Generamos número aleatoriamente\n",
        "print(n)\n",
        "#n = 1\n",
        "cont = 0\n",
        "\n",
        "numero = list(itertools.combinations('123456789',5))\n",
        "print(len(numero))\n",
        "operador = list(itertools.permutations('+-/*'))\n",
        "print(len(operador))\n",
        "for i in range(len(numero)):\n",
        "  for j in range(len(operador)):\n",
        "    \n",
        "    result = numero[i][0] + operador[j][0] + numero[i][1] + operador[j][1] + numero[i][2] + operador[j][2] + numero[i][3] + operador[j][3] + numero[i][4]\n",
        "    \n",
        "    if(eval(result) == n):\n",
        "        print(result, '==', n)\n",
        "        cont+=1\n",
        "   \n",
        "\n",
        "print ('El número de posibilidades para el ' + str(n) +' es ' +str(cont) )"
      ],
      "execution_count": 113,
      "outputs": [
        {
          "output_type": "stream",
          "text": [
            "4\n",
            "126\n",
            "24\n",
            "1-2/3*6+7 == 4\n",
            "1/2*4-5+7 == 4\n",
            "1/2*4-6+8 == 4\n",
            "1/2*4-7+9 == 4\n",
            "1/2*6-7+8 == 4\n",
            "1/2*6-8+9 == 4\n",
            "1-3+4/6*9 == 4\n",
            "1-3/4*8+9 == 4\n",
            "1/3*6-7+9 == 4\n",
            "2/4*6-7+8 == 4\n",
            "2/4*6-8+9 == 4\n",
            "3*4/6-7+9 == 4\n",
            "El número de posibilidades para el 4 es 12\n"
          ],
          "name": "stdout"
        }
      ]
    },
    {
      "cell_type": "code",
      "metadata": {
        "id": "mx7yUkF-TKYn",
        "colab_type": "code",
        "colab": {
          "base_uri": "https://localhost:8080/",
          "height": 121
        },
        "outputId": "b21f4cf8-86f6-4861-d259-9eafb12ff399"
      },
      "source": [
        "import itertools\n",
        "import random \n",
        "\n",
        "n = random.randint(1, 9)  #Generamos número aleatoriamente\n",
        "print(n)\n",
        "cont = 0\n",
        "#n = 4\n",
        "\n",
        "numero = list(itertools.combinations('123456789',5))\n",
        "operador = list(itertools.permutations('+-/*'))\n",
        "#print(numero)\n",
        "#print(operador)\n",
        "for i, num in enumerate(numero):\n",
        "  for j,op in enumerate (operador):\n",
        "    \n",
        "    result = num[0] + op[0] + num[1] + op[1] + num[2] + op[2] + num[3] + op[3] + num[4]\n",
        "    \n",
        "    if(eval(result) == n):\n",
        "      print(result, '==', n)\n",
        "      cont+=1\n",
        "print ('El número de posibilidades para el ' + str(n) +' es ' +str(cont) )"
      ],
      "execution_count": 1,
      "outputs": [
        {
          "output_type": "stream",
          "text": [
            "9\n",
            "1-2*3/6+9 == 9\n",
            "1-2*4/8+9 == 9\n",
            "2-3*4/6+9 == 9\n",
            "3-4*6/8+9 == 9\n",
            "El número de posibilidades para el 9 es 4\n"
          ],
          "name": "stdout"
        }
      ]
    },
    {
      "cell_type": "markdown",
      "metadata": {
        "id": "tgrnsC2nkFa8",
        "colab_type": "text"
      },
      "source": [
        "Calcula la complejidad del algoritmo por fuerza bruta"
      ]
    },
    {
      "cell_type": "markdown",
      "metadata": {
        "id": "9eUd3xwckP68",
        "colab_type": "text"
      },
      "source": [
        "Respuesta\n",
        "La complejidad de fuerza bruta es: O(${n^2}$)"
      ]
    },
    {
      "cell_type": "code",
      "metadata": {
        "id": "rvZWwL-ckRST",
        "colab_type": "code",
        "colab": {}
      },
      "source": [
        ""
      ],
      "execution_count": null,
      "outputs": []
    },
    {
      "cell_type": "markdown",
      "metadata": {
        "id": "txbrmLmskReM",
        "colab_type": "text"
      },
      "source": [
        "(*)Diseña un algoritmo que mejore la complejidad del algortimo por fuerza bruta. Argumenta porque crees que mejora el algoritmo por fuerza bruta"
      ]
    },
    {
      "cell_type": "markdown",
      "metadata": {
        "id": "hLrVwt5QkZPD",
        "colab_type": "text"
      },
      "source": [
        "Respuesta\n",
        "Para mejorar la resolución del algoritmo por fuerza bruta se ha optado por un algoritmo por ramificación y poda. En este algoritmo se van a ir creando las ramas del árbol, teniendo que alternar en la creación de los nodos hijos que estemos en un nodo con número o un operador. Iremos comprobando que no se sobrepasa la solución deseada, y en caso contrario se podará la rama.\n",
        "Para ello se van a pasar a la función ramificación_y_poda dos listas que van a incluir los enteros positivos una de ellas y los operadores elementales otra. \n",
        "Tendremos, al igual que hicimos en la AG2, una función que nos creará el nodo Hijo que iremos añadiendo al árbol de soluciones. \n",
        "Se puede observar que el código es mucho más complejo que para el caso del algoritmo por fuerza bruta, pero almacenaremos sólo los nodos vivos.\n",
        "El código que se adjunta no es correcto, pero no hemos tenido tiempo suficiente para poder finalizar el código. Habría que llegar al nodo final en el que obtendríamos el valor buscado con la función eval."
      ]
    },
    {
      "cell_type": "code",
      "metadata": {
        "id": "m1eyM21Vkabg",
        "colab_type": "code",
        "colab": {}
      },
      "source": [
        "import itertools\n",
        "\n",
        "def crear_hijos (NODO,caracter,N):\n",
        "  print('crear hijos')\n",
        "  HIJOS = []\n",
        "  for i in range (N):\n",
        "    if caracter[i] not in NODO:\n",
        "      HIJOS.append({'s':NODO + (caracter[i],) })\n",
        "  \n",
        "  \n",
        "  print(HIJOS)\n",
        "  return HIJOS\n",
        "\n",
        "\n",
        "#Le paso valor a calcular y voy creando nodos añadiendo números y operadores\n",
        "\n",
        "def ramificacion_y_poda(numero, operador, valor):  \n",
        "#Construccion iterativa de soluciones (arbol). En cada etapa asignamos un número u operador (ramas).\n",
        "\n",
        "  DIMENSION = 9\n",
        "  flag = 0\n",
        "  MEJOR_SOLUCION = tuple(i for i in range(9))\n",
        "  i = 0\n",
        "  j = 0\n",
        "  iteracion = 0\n",
        "  NODOS = []\n",
        "  NODOS.append({'s':()})\n",
        "  print(NODOS)\n",
        "  cont = 0\n",
        "  while(len(NODOS)>0):   #Hasta que no tenga 9 caracteres sigo añadiendo ramas\n",
        "  \n",
        "    iteracion+= 1\n",
        "    print(NODOS)\n",
        "    nodo_prometedor = NODOS[0]['s']\n",
        "    \n",
        "    print(nodo_prometedor)\n",
        "    \n",
        "     #Ramificacion\n",
        "    #Se generan los hijos\n",
        "    if cont%2==0 and i < DIMENSION:\n",
        "\n",
        "        HIJOS = [{'s':x['s']} for x in crear_hijos(nodo_prometedor,numero,DIMENSION)]   \n",
        "        \n",
        "        cont+=1\n",
        "        i+=1\n",
        "        print(HIJOS)\n",
        "    \n",
        "    else:\n",
        "      if j < 4:\n",
        "        \n",
        "          HIJOS = [{'s':x['s']} for x in crear_hijos(nodo_prometedor,operador,4)]\n",
        "          cont+=1\n",
        "          #j+=1\n",
        "          print(HIJOS)\n",
        "\n",
        "    NODO_FINAL = [x for x in HIJOS if len(x['s']) == DIMENSION]    \n",
        "    print(NODO_FINAL)\n",
        "    print(len(NODO_FINAL))\n",
        "\n",
        "    \n",
        "\n",
        "    #Revisamos la cota superior y nos quedamos con la mejor solucion\n",
        "    # si llegamos a una solucion final\n",
        "    #if(len(NODO_FINAL)==9):\n",
        "    #NODO_FINAL = [x for x in HIJOS if len(x['s']) == DIMENSION]\n",
        "    if len(NODO_FINAL)>0:\n",
        "      print(NODO_FINAL[0]['s'])\n",
        "      \n",
        "      cadena = \" \".join(NODO_FINAL[0]['s'])\n",
        "      print(eval(cadena))\n",
        "      \n",
        "      \n",
        "      if(eval(cadena) == valor):\n",
        "        print(eval(cadena))\n",
        "        flag = 1\n",
        "        MEJOR_SOLUCION = NODO_FINAL\n",
        " \n",
        "    #Poda\n",
        "   \n",
        "    HIJOS = [x for x in HIJOS if len(x['s']) < DIMENSION]\n",
        "    \n",
        "    #Añadimos los hijos\n",
        "    \n",
        "    NODOS.extend(HIJOS)\n",
        "    \n",
        "    \n",
        "    print(NODOS)\n",
        "    #print(len(NODOS[0]['s']))\n",
        "    #Eliminamos el nodo ramificado\n",
        "    NODOS = [x for x in NODOS if x['s']!= nodo_prometedor]\n",
        "    \n",
        "  print (\"La solucion final es:\", MEJOR_SOLUCION, \n",
        "         \" en \", iteracion, \" iteraciones \",\" para dimension: \", DIMENSION)\n",
        "\n",
        "numero = ['1','2','3','4','5','6','7','8','9']\n",
        "\n",
        "operador = ['+','-','*','/']\n",
        "#numero = list(itertools.combinations('123456789',5))\n",
        "print(numero)\n",
        "#operador = list(itertools.permutations('+-/*'))\n",
        "print(operador)\n",
        "n = random.randint(1, 9)  #Generamos número aleatoriamente\n",
        "print(n)\n",
        "ramificacion_y_poda (numero,operador,n)"
      ],
      "execution_count": null,
      "outputs": []
    },
    {
      "cell_type": "markdown",
      "metadata": {
        "id": "eGDB4K6uk1iN",
        "colab_type": "text"
      },
      "source": [
        "(*)Calcula la complejidad del algoritmo "
      ]
    },
    {
      "cell_type": "markdown",
      "metadata": {
        "id": "NhpTh_BPk1ms",
        "colab_type": "text"
      },
      "source": [
        "Respuesta\n",
        "La complejidad del algoritmo es una complejidad cuasi-lineal: O(${nlogn}$)"
      ]
    },
    {
      "cell_type": "code",
      "metadata": {
        "id": "nREzhkStlCq8",
        "colab_type": "code",
        "colab": {}
      },
      "source": [
        ""
      ],
      "execution_count": null,
      "outputs": []
    },
    {
      "cell_type": "markdown",
      "metadata": {
        "id": "3M6QjTsSkmYe",
        "colab_type": "text"
      },
      "source": [
        "Según el problema (y tenga sentido), diseña un juego de datos de entrada aleatorios"
      ]
    },
    {
      "cell_type": "markdown",
      "metadata": {
        "id": "Jc3_OlyNkvjZ",
        "colab_type": "text"
      },
      "source": [
        "Respuesta\n",
        "Vamos a generar aleatoriamente un número del 1 al 9, a partir del cual vamos a ir obteniendo las cifras y los operadores alternativamente como nos indica el enunciado del problema."
      ]
    },
    {
      "cell_type": "code",
      "metadata": {
        "id": "sJ-N2etjkyWc",
        "colab_type": "code",
        "colab": {}
      },
      "source": [
        "n = random.randint(1, 9)  #Generamos número aleatoriamente\n",
        "print(n)"
      ],
      "execution_count": null,
      "outputs": []
    },
    {
      "cell_type": "markdown",
      "metadata": {
        "id": "zy5ZROmjlGo1",
        "colab_type": "text"
      },
      "source": [
        "Aplica el algoritmo al juego de datos generado"
      ]
    },
    {
      "cell_type": "markdown",
      "metadata": {
        "id": "_Cmj-PVylMsa",
        "colab_type": "text"
      },
      "source": [
        "Respuesta\n",
        "Como se observa tanto en el código de fuerza bruta como en el de ramificación y poda, incluímos al inicio el juego de datos."
      ]
    },
    {
      "cell_type": "markdown",
      "metadata": {
        "colab_type": "text",
        "id": "eTFWUJQrtGcv"
      },
      "source": [
        "Enumera las referencias que has utilizado(si ha sido necesario) para llevar a cabo el trabajo"
      ]
    },
    {
      "cell_type": "markdown",
      "metadata": {
        "id": "YKQ_mRBttWsP",
        "colab_type": "text"
      },
      "source": [
        "Respuesta\n",
        "\n",
        "Para la realización del algoritmo de ramificación y poda he buscado problemas de ramificación y poda que nos ayudaran a desarrollar el árbol de búsqueda.\n",
        "Uno de esos problemas que nos han ayudado ha desarrollar el algoritmo, ha sido problema de la suma de subconjuntos, en el que dada una lista L de números positivos y otro número s, se determinan los subconjuntos de L que suman s.\n",
        "Hemos consultado:\n",
        "\n",
        "http://www.cartagena99.com/recursos/alumnos/temarios/Backtracking.pdf\n",
        "\n",
        "Diseño y Análisis de Algoritmos de la universidad Rey Juan Carlos.\n",
        "\n",
        "Igualmente hemos buscado ejemplos de diferentes problemas de ramificación y poda que nos ayudan en el desarrollo del árbol y la posterior creación del código.\n",
        "\n",
        "http://webdiis.unizar.es/asignaturas/AB/material/6-Ramificacion%20y%20poda.pdf\n",
        "\n",
        "Ramificación y poda (branch & bound) de Simona Bernardi de la Universidad de Zaragoza, en el que hemos analizado diferentes problemas de algoritmos de optimización de ramificación y poda.\n",
        "\n",
        "http://dis.um.es/~nmarin/transparencias-ramificacion-y-poda-AED-II.pdf\n",
        "\n",
        "Transparencias ramificación y poda AED\n",
        "\n",
        "La Asignatura Guiada AG2 ha sido también muy importante en el desarrollo y en las pruebas de código, en concreto el problema que se realizó de asignación de n tareas a n agentes."
      ]
    },
    {
      "cell_type": "markdown",
      "metadata": {
        "id": "kAkDPUyRtYyH",
        "colab_type": "text"
      },
      "source": [
        "Describe brevemente las lineas de como crees que es posible avanzar en el estudio del problema. Ten en cuenta incluso posibles variaciones del problema y/o variaciones al alza del tamaño"
      ]
    },
    {
      "cell_type": "markdown",
      "metadata": {
        "id": "IE0uZmo-tZu-",
        "colab_type": "text"
      },
      "source": [
        "Respuesta\n",
        "\n",
        "En el caso del algoritmo de fuerza bruta, realizamos diferentes pruebas aumentando el número de posibles combinaciones realizadas por la función itertools, aumentando para ello el número de elementos que nos puede dar la función itertools:"
      ]
    },
    {
      "cell_type": "code",
      "metadata": {
        "id": "wJTn70Qfq281",
        "colab_type": "code",
        "colab": {
          "base_uri": "https://localhost:8080/",
          "height": 69
        },
        "outputId": "5ee89799-a01a-4059-8f61-59b953b45ea8"
      },
      "source": [
        "import itertools\n",
        "import random\n",
        "\n",
        "n = random.randint(1, 9)  #Generamos número aleatoriamente\n",
        "#print(n)\n",
        "n = 9\n",
        "cont = 0\n",
        "\n",
        "numero = list(itertools.combinations('123456789',9))\n",
        "print((numero))\n",
        "operador = list(itertools.permutations('+-/*'))\n",
        "print(len(operador))\n",
        "for i in range(len(numero)):\n",
        "  for j in range(len(operador)):\n",
        "    \n",
        "    result = numero[i][0] + operador[j][0] + numero[i][1] + operador[j][1] + numero[i][2] + operador[j][2] + numero[i][3] + operador[j][3] + numero[i][4]\n",
        "    \n",
        "    if(eval(result) == n):\n",
        "        print(result, '==', n)\n",
        "        cont+=1\n",
        "   \n",
        "\n",
        "print ('El número de posibilidades para el ' + str(n) +' es ' +str(cont) )"
      ],
      "execution_count": 37,
      "outputs": [
        {
          "output_type": "stream",
          "text": [
            "[('1', '2', '3', '4', '5', '6', '7', '8', '9')]\n",
            "24\n",
            "El número de posibilidades para el 9 es 0\n"
          ],
          "name": "stdout"
        }
      ]
    },
    {
      "cell_type": "markdown",
      "metadata": {
        "id": "tl7S1yHLtC_T",
        "colab_type": "text"
      },
      "source": [
        "Aumentando el número de valores disponibles, hacemos diferentes pruebas y comprobamos que para determinados valores nuestro algoritmo de fuerza bruta no encuentra solución para determinados valores.\n",
        "Para combinaciones de 5 elementos sin repetición podemos obtener todos los valores posibles de 1 a 9, pero en el momento que aumentamos el número de combinaciones de elementos sin repetición, nuestro algoritmo no es capaz de encontrar todas las soluciones posibles.\n",
        "\n",
        "*   Para 6 elementos, encontraría solución para 1,2,3,4,5,6,7,8 \n",
        "*   Para 7 elementos, encontraría solución para 1,3,4,5,6,7\n",
        "*   Para 8 elementos, encontraría solución para 1,3\n",
        "*   Para 9 elementos, no encontraría solución\n",
        "\n",
        "A medida que subimos el número de elementos, disminuyen las soluciones.\n",
        "\n",
        "\n"
      ]
    }
  ]
}